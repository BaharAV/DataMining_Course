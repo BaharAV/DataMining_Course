{
  "nbformat": 4,
  "nbformat_minor": 0,
  "metadata": {
    "colab": {
      "name": "kmeans_on_text.ipynb",
      "provenance": [],
      "collapsed_sections": []
    },
    "kernelspec": {
      "name": "python3",
      "display_name": "Python 3"
    },
    "language_info": {
      "name": "python"
    }
  },
  "cells": [
    {
      "cell_type": "code",
      "metadata": {
        "colab": {
          "base_uri": "https://localhost:8080/"
        },
        "id": "TgZkGlv9ZuKI",
        "outputId": "262ceb7a-ec82-48ef-fa93-7aecd161b03c"
      },
      "source": [
        "from google.colab import drive\n",
        "  \n",
        "# Accessing My Google Drive\n",
        "drive.mount('/content/drive')"
      ],
      "execution_count": null,
      "outputs": [
        {
          "output_type": "stream",
          "text": [
            "Drive already mounted at /content/drive; to attempt to forcibly remount, call drive.mount(\"/content/drive\", force_remount=True).\n"
          ],
          "name": "stdout"
        }
      ]
    },
    {
      "cell_type": "code",
      "metadata": {
        "id": "upcX00iPQPdS"
      },
      "source": [
        "import pandas as pd"
      ],
      "execution_count": null,
      "outputs": []
    },
    {
      "cell_type": "code",
      "metadata": {
        "id": "zmktVHyJag63"
      },
      "source": [
        "data_file_name =\"/content/drive/MyDrive/Colab Notebooks/CVision/FinalProject_part1_dataset.csv\"\n",
        "dataset = pd.read_csv(data_file_name)"
      ],
      "execution_count": null,
      "outputs": []
    },
    {
      "cell_type": "code",
      "metadata": {
        "colab": {
          "base_uri": "https://localhost:8080/"
        },
        "id": "caWQEpw2dcYa",
        "outputId": "dcf22fdd-3bfa-4203-b1b9-302443dcfa50"
      },
      "source": [
        "!pip install tqdm\n",
        "\n",
        "from tqdm import tqdm_notebook as tqdm\n",
        "import pandas as pd\n",
        "import matplotlib.pyplot as plt\n",
        "import matplotlib as mpl\n",
        "import numpy as np\n",
        "import re\n",
        "import nltk\n",
        "nltk.download('stopwords')\n",
        "nltk.download('punkt')\n",
        "nltk.download('wordnet')\n",
        "from nltk.stem import WordNetLemmatizer\n",
        "from nltk.stem import PorterStemmer\n",
        "from nltk.tokenize import word_tokenize\n",
        "from nltk.corpus import stopwords"
      ],
      "execution_count": null,
      "outputs": [
        {
          "output_type": "stream",
          "text": [
            "Requirement already satisfied: tqdm in /usr/local/lib/python3.7/dist-packages (4.41.1)\n",
            "[nltk_data] Downloading package stopwords to /root/nltk_data...\n",
            "[nltk_data]   Package stopwords is already up-to-date!\n",
            "[nltk_data] Downloading package punkt to /root/nltk_data...\n",
            "[nltk_data]   Package punkt is already up-to-date!\n",
            "[nltk_data] Downloading package wordnet to /root/nltk_data...\n",
            "[nltk_data]   Package wordnet is already up-to-date!\n"
          ],
          "name": "stdout"
        }
      ]
    },
    {
      "cell_type": "code",
      "metadata": {
        "id": "mSJ-Mikqapea"
      },
      "source": [
        "# tokenizing the comments\n",
        "def preprocessing_content(X):\n",
        "  documents = []\n",
        "  lemmatizer= WordNetLemmatizer()\n",
        "  stemmer= PorterStemmer()\n",
        "  stop_words = set(stopwords.words('english'))\n",
        "  for sen in range(0, len(X)):\n",
        "      # Remove all the special characters\n",
        "      document = re.sub(r'\\W', ' ', str(X[sen]))\n",
        "      \n",
        "      # remove all single characters\n",
        "      document = re.sub(r'\\s+[a-zA-Z]\\s+', ' ', document)\n",
        "      \n",
        "      # Remove single characters from the start\n",
        "      document = re.sub(r'\\^[a-zA-Z]\\s+', ' ', document) \n",
        "      \n",
        "      # Substituting multiple spaces with single space\n",
        "      document = re.sub(r'\\s+', ' ', document, flags=re.I)\n",
        "      \n",
        "      # Removing prefixed 'b'\n",
        "      document = re.sub(r'^b\\s+', '', document)\n",
        "      \n",
        "      # Converting to Lowercase\n",
        "      document = document.lower()\n",
        "      \n",
        "      document = word_tokenize(document)\n",
        "\n",
        "      #stopword\n",
        "      document = [i for i in document if not i in stop_words]\n",
        "      \n",
        "      documents.append(document)\n",
        "  print(documents)\n",
        "  return documents\n"
      ],
      "execution_count": null,
      "outputs": []
    },
    {
      "cell_type": "code",
      "metadata": {
        "id": "09IVV5ECauzz"
      },
      "source": [
        "processed_text = preprocessing_content(dataset['content'])"
      ],
      "execution_count": null,
      "outputs": []
    },
    {
      "cell_type": "code",
      "metadata": {
        "id": "UrNgURjEdaOi"
      },
      "source": [
        "from sklearn.feature_extraction.text import TfidfVectorizer"
      ],
      "execution_count": null,
      "outputs": []
    },
    {
      "cell_type": "code",
      "metadata": {
        "id": "qWinmL2Dar5h"
      },
      "source": [
        "# making tfidf from the comments\n",
        "'''Term Frequency-Inverse Document Frequency is a numerical statistic that demonstrates how important a word is to a corpus.\n",
        "Term Frequency is just ratio number of current word to the number of all words in document/string/etc. \n",
        "Inverse Document Frequency is a log of the ratio of the number of all documents/string in the corpus to the number of documents with term t_i. \n",
        "tf-idf(t, d, D) is the product tf(t, d) to idf(t, D).'''\n",
        "def dummy_fun(doc):\n",
        "    return doc\n",
        "def tfidf(data, ma = 0.6, mi = 0.0001):\n",
        "    tfidf_vectorize = TfidfVectorizer(\n",
        "    analyzer='word',\n",
        "    tokenizer=dummy_fun,\n",
        "    preprocessor=dummy_fun,\n",
        "    token_pattern=None,\n",
        "    max_df = ma,\n",
        "    min_df = mi) \n",
        "    tfidf_data = tfidf_vectorize.fit_transform(data)\n",
        "    return tfidf_vectorize,tfidf_data"
      ],
      "execution_count": null,
      "outputs": []
    },
    {
      "cell_type": "code",
      "metadata": {
        "colab": {
          "base_uri": "https://localhost:8080/"
        },
        "id": "N41wc0Y5atOT",
        "outputId": "f89c51c0-50ba-4a7c-8765-cc0226477fc7"
      },
      "source": [
        "tfidf_vectorize,word_embedded_text = tfidf(processed_text)\n",
        "print(word_embedded_text.shape)"
      ],
      "execution_count": null,
      "outputs": [
        {
          "output_type": "stream",
          "text": [
            "(16488, 8127)\n"
          ],
          "name": "stdout"
        }
      ]
    },
    {
      "cell_type": "markdown",
      "metadata": {
        "id": "cQKsgr8lesQ8"
      },
      "source": [
        "k-means with library"
      ]
    },
    {
      "cell_type": "code",
      "metadata": {
        "id": "BYT-W73AcLqq"
      },
      "source": [
        "from sklearn.cluster import KMeans\n",
        "import matplotlib.pyplot as plt"
      ],
      "execution_count": null,
      "outputs": []
    },
    {
      "cell_type": "code",
      "metadata": {
        "colab": {
          "base_uri": "https://localhost:8080/",
          "height": 439
        },
        "id": "cNXSywmNkTy8",
        "outputId": "1a5048d0-f9b2-4407-f502-63f17eee2703"
      },
      "source": [
        "sse = {}\n",
        "for k in range(1, 10):\n",
        "    print(k)\n",
        "    kmeans = KMeans(n_clusters=k, max_iter=500).fit(word_embedded_text)\n",
        "    sse[k] = kmeans.inertia_ \n",
        "plt.figure()\n",
        "plt.plot(list(sse.keys()), list(sse.values()),'bx-')\n",
        "plt.xlabel(\"Number of cluster\")\n",
        "plt.ylabel(\"SSE\")\n",
        "plt.grid(True)\n",
        "plt.show()"
      ],
      "execution_count": null,
      "outputs": [
        {
          "output_type": "stream",
          "text": [
            "1\n",
            "2\n",
            "3\n",
            "4\n",
            "5\n",
            "6\n",
            "7\n",
            "8\n",
            "9\n"
          ],
          "name": "stdout"
        },
        {
          "output_type": "display_data",
          "data": {
            "image/png": "[encoded data removed]",
            "text/plain": [
              "<Figure size 432x288 with 1 Axes>"
            ]
          },
          "metadata": {
            "tags": [],
            "needs_background": "light"
          }
        }
      ]
    },
    {
      "cell_type": "code",
      "metadata": {
        "colab": {
          "base_uri": "https://localhost:8080/"
        },
        "id": "GajeSKq2ibFF",
        "outputId": "40e0c5ad-b7dd-4cef-bf7e-40c2a8a00cb5"
      },
      "source": [
        "# finding the cluster of an example\n",
        "kmeans = KMeans(n_clusters=2, max_iter=500).fit(word_embedded_text)\n",
        "\n",
        "Y = tfidf_vectorize.transform([\"The game was really fun. I really liked it!\"])\n",
        "prediction = kmeans.predict(Y)\n",
        "print(prediction)\n"
      ],
      "execution_count": null,
      "outputs": [
        {
          "output_type": "stream",
          "text": [
            "[0]\n"
          ],
          "name": "stdout"
        }
      ]
    }
  ]
}