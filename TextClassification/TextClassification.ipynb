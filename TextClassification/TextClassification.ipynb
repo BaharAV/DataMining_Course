{
  "nbformat": 4,
  "nbformat_minor": 0,
  "metadata": {
    "colab": {
      "name": "TextClassification.ipynb",
      "provenance": [],
      "collapsed_sections": []
    },
    "kernelspec": {
      "display_name": "Python 3",
      "name": "python3"
    },
    "language_info": {
      "name": "python"
    }
  },
  "cells": [
    {
      "cell_type": "code",
      "metadata": {
        "colab": {
          "base_uri": "https://localhost:8080/"
        },
        "id": "0xLFT3m9z5aQ",
        "outputId": "8f25cb58-97a5-4d83-e581-cf3faa47095a"
      },
      "source": [
        "from google.colab import drive\n",
        "  \n",
        "# Accessing My Google Drive\n",
        "drive.mount('/content/drive')"
      ],
      "execution_count": 3,
      "outputs": [
        {
          "output_type": "stream",
          "name": "stdout",
          "text": [
            "Mounted at /content/drive\n"
          ]
        }
      ]
    },
    {
      "cell_type": "code",
      "metadata": {
        "colab": {
          "base_uri": "https://localhost:8080/"
        },
        "id": "NLDmlDGaz_bx",
        "outputId": "f87c67da-e5f4-42b8-9b09-dd9e62b2fd5d"
      },
      "source": [
        "!pip install tqdm\n",
        "\n",
        "from tqdm import tqdm_notebook as tqdm\n",
        "import pandas as pd\n",
        "import matplotlib.pyplot as plt\n",
        "import matplotlib as mpl\n",
        "import numpy as np\n",
        "import re\n",
        "import nltk\n",
        "nltk.download('stopwords')\n",
        "nltk.download('punkt')\n",
        "nltk.download('wordnet')\n",
        "from nltk.stem import WordNetLemmatizer\n",
        "from nltk.stem import PorterStemmer\n",
        "from nltk.tokenize import word_tokenize\n",
        "from nltk.corpus import stopwords\n",
        "\n",
        "import seaborn as sns\n",
        "import sklearn\n",
        "import scipy\n",
        "from scipy.stats import spearmanr , pointbiserialr\n",
        "import sklearn.model_selection\n",
        "from sklearn.neighbors import KNeighborsClassifier\n",
        "from sklearn.metrics import confusion_matrix\n",
        "from sklearn.metrics import plot_confusion_matrix\n",
        "from sklearn import metrics\n",
        "from sklearn.metrics import classification_report\n",
        "import math\n",
        "from sklearn.metrics import classification_report,confusion_matrix, ConfusionMatrixDisplay\n",
        "from sklearn.feature_extraction.text import CountVectorizer, TfidfTransformer, TfidfVectorizer\n",
        "from sklearn import linear_model\n",
        "from sklearn.naive_bayes import MultinomialNB\n",
        "from sklearn.svm import SVC\n",
        "from sklearn.neural_network import MLPClassifier\n",
        "from sklearn.linear_model import SGDClassifier\n",
        "from sklearn.metrics import precision_score, accuracy_score, recall_score\n",
        "import matplotlib.pyplot as plt\n",
        "from string import punctuation\n",
        "import random\n",
        "import scipy\n",
        "from scipy.stats import spearmanr , pointbiserialr\n",
        "from collections import Counter\n",
        "import math"
      ],
      "execution_count": 4,
      "outputs": [
        {
          "output_type": "stream",
          "name": "stdout",
          "text": [
            "Requirement already satisfied: tqdm in /usr/local/lib/python3.7/dist-packages (4.62.3)\n",
            "[nltk_data] Downloading package stopwords to /root/nltk_data...\n",
            "[nltk_data]   Unzipping corpora/stopwords.zip.\n",
            "[nltk_data] Downloading package punkt to /root/nltk_data...\n",
            "[nltk_data]   Unzipping tokenizers/punkt.zip.\n",
            "[nltk_data] Downloading package wordnet to /root/nltk_data...\n",
            "[nltk_data]   Unzipping corpora/wordnet.zip.\n"
          ]
        }
      ]
    },
    {
      "cell_type": "markdown",
      "metadata": {
        "id": "tFaf-wSq7d8Y"
      },
      "source": [
        "# Data Set"
      ]
    },
    {
      "cell_type": "code",
      "metadata": {
        "id": "Q4G3wcwQ0E9E"
      },
      "source": [
        "data_file_name =\"/content/drive/MyDrive/Colab Notebooks/CVision/FinalProject_part1_dataset.csv\"\n",
        "dataset = pd.read_csv(data_file_name)"
      ],
      "execution_count": 5,
      "outputs": []
    },
    {
      "cell_type": "code",
      "metadata": {
        "colab": {
          "base_uri": "https://localhost:8080/",
          "height": 844
        },
        "id": "uxhxF5eK0UdV",
        "outputId": "17e20f45-f669-4370-bade-90f42936ec56"
      },
      "source": [
        "print(\"Data : {}\\n\".format(dataset.shape))\n",
        "print(\"Data colums :\\n\\n {}\".format(dataset.columns))\n",
        "dataset.head()"
      ],
      "execution_count": 6,
      "outputs": [
        {
          "output_type": "stream",
          "name": "stdout",
          "text": [
            "Data : (16488, 12)\n",
            "\n",
            "Data colums :\n",
            "\n",
            " Index(['reviewId', 'userName', 'userImage', 'content', 'score',\n",
            "       'thumbsUpCount', 'reviewCreatedVersion', 'at', 'replyContent',\n",
            "       'repliedAt', 'sortOrder', 'appId'],\n",
            "      dtype='object')\n"
          ]
        },
        {
          "output_type": "execute_result",
          "data": {
            "text/html": [
              "<div>\n",
              "<style scoped>\n",
              "    .dataframe tbody tr th:only-of-type {\n",
              "        vertical-align: middle;\n",
              "    }\n",
              "\n",
              "    .dataframe tbody tr th {\n",
              "        vertical-align: top;\n",
              "    }\n",
              "\n",
              "    .dataframe thead th {\n",
              "        text-align: right;\n",
              "    }\n",
              "</style>\n",
              "<table border=\"1\" class=\"dataframe\">\n",
              "  <thead>\n",
              "    <tr style=\"text-align: right;\">\n",
              "      <th></th>\n",
              "      <th>reviewId</th>\n",
              "      <th>userName</th>\n",
              "      <th>userImage</th>\n",
              "      <th>content</th>\n",
              "      <th>score</th>\n",
              "      <th>thumbsUpCount</th>\n",
              "      <th>reviewCreatedVersion</th>\n",
              "      <th>at</th>\n",
              "      <th>replyContent</th>\n",
              "      <th>repliedAt</th>\n",
              "      <th>sortOrder</th>\n",
              "      <th>appId</th>\n",
              "    </tr>\n",
              "  </thead>\n",
              "  <tbody>\n",
              "    <tr>\n",
              "      <th>0</th>\n",
              "      <td>gp:AOqpTOG_sbrCnu0wRH51BoojyG2l9kL95QWpBJ7aC5W...</td>\n",
              "      <td>SirH3nry</td>\n",
              "      <td>https://play-lh.googleusercontent.com/a-/AOh14...</td>\n",
              "      <td>I use reminder apps for one thing: daily remin...</td>\n",
              "      <td>1</td>\n",
              "      <td>11</td>\n",
              "      <td>5.13.0.9</td>\n",
              "      <td>2021-03-23 17:32:43</td>\n",
              "      <td>The way Recurring Reminders work is that when ...</td>\n",
              "      <td>2021-03-24 09:52:03</td>\n",
              "      <td>most_relevant</td>\n",
              "      <td>com.anydo</td>\n",
              "    </tr>\n",
              "    <tr>\n",
              "      <th>1</th>\n",
              "      <td>gp:AOqpTOGogprOZWoMGnVn_mzQOAPaSfgB4ZZs1AhHXzE...</td>\n",
              "      <td>Steve Clancy</td>\n",
              "      <td>https://play-lh.googleusercontent.com/a-/AOh14...</td>\n",
              "      <td>I am so tired of the constant \"helpful\" notifi...</td>\n",
              "      <td>1</td>\n",
              "      <td>5</td>\n",
              "      <td>5.12.1.1</td>\n",
              "      <td>2021-03-18 16:14:18</td>\n",
              "      <td>You can disable any notifications you don't li...</td>\n",
              "      <td>2021-03-21 10:17:41</td>\n",
              "      <td>most_relevant</td>\n",
              "      <td>com.anydo</td>\n",
              "    </tr>\n",
              "    <tr>\n",
              "      <th>2</th>\n",
              "      <td>gp:AOqpTOEzFNt68Pau8IeHhpKZa-zUJgpW4g59wB9SmqY...</td>\n",
              "      <td>BreAnn Happ</td>\n",
              "      <td>https://play-lh.googleusercontent.com/a-/AOh14...</td>\n",
              "      <td>Love it! But when I start writing a task, and ...</td>\n",
              "      <td>1</td>\n",
              "      <td>17</td>\n",
              "      <td>5.12.1.1</td>\n",
              "      <td>2021-03-18 09:29:32</td>\n",
              "      <td>Please note that in order to make sure that su...</td>\n",
              "      <td>2021-03-21 10:06:14</td>\n",
              "      <td>most_relevant</td>\n",
              "      <td>com.anydo</td>\n",
              "    </tr>\n",
              "    <tr>\n",
              "      <th>3</th>\n",
              "      <td>gp:AOqpTOH1svJ6WlbEzBJao-Z-bPslFlNlOmcKbf585YY...</td>\n",
              "      <td>Fiat Justicia</td>\n",
              "      <td>https://play-lh.googleusercontent.com/a-/AOh14...</td>\n",
              "      <td>1)Notes take too long to sync!! 2)Can't see th...</td>\n",
              "      <td>1</td>\n",
              "      <td>2</td>\n",
              "      <td>5.13.0.9</td>\n",
              "      <td>2021-03-28 01:26:32</td>\n",
              "      <td>Hi Fiat, please note that we have an extensive...</td>\n",
              "      <td>2021-03-29 08:51:05</td>\n",
              "      <td>most_relevant</td>\n",
              "      <td>com.anydo</td>\n",
              "    </tr>\n",
              "    <tr>\n",
              "      <th>4</th>\n",
              "      <td>gp:AOqpTOFIEKcKU1pFc0FJrQAsnGOIp8kQ4GYmMc93LWf...</td>\n",
              "      <td>David Sarnoff</td>\n",
              "      <td>https://play-lh.googleusercontent.com/-R53V40b...</td>\n",
              "      <td>Keep getting (for the last month or so) the me...</td>\n",
              "      <td>1</td>\n",
              "      <td>2</td>\n",
              "      <td>5.13.0.9</td>\n",
              "      <td>2021-03-24 07:50:57</td>\n",
              "      <td>We're sorry to hear you're experiencing issues...</td>\n",
              "      <td>2021-03-24 10:03:55</td>\n",
              "      <td>most_relevant</td>\n",
              "      <td>com.anydo</td>\n",
              "    </tr>\n",
              "  </tbody>\n",
              "</table>\n",
              "</div>"
            ],
            "text/plain": [
              "                                            reviewId  ...      appId\n",
              "0  gp:AOqpTOG_sbrCnu0wRH51BoojyG2l9kL95QWpBJ7aC5W...  ...  com.anydo\n",
              "1  gp:AOqpTOGogprOZWoMGnVn_mzQOAPaSfgB4ZZs1AhHXzE...  ...  com.anydo\n",
              "2  gp:AOqpTOEzFNt68Pau8IeHhpKZa-zUJgpW4g59wB9SmqY...  ...  com.anydo\n",
              "3  gp:AOqpTOH1svJ6WlbEzBJao-Z-bPslFlNlOmcKbf585YY...  ...  com.anydo\n",
              "4  gp:AOqpTOFIEKcKU1pFc0FJrQAsnGOIp8kQ4GYmMc93LWf...  ...  com.anydo\n",
              "\n",
              "[5 rows x 12 columns]"
            ]
          },
          "metadata": {},
          "execution_count": 6
        }
      ]
    },
    {
      "cell_type": "markdown",
      "metadata": {
        "id": "16WY3Bx-7jIa"
      },
      "source": [
        "# PreProccessing and Visualization"
      ]
    },
    {
      "cell_type": "code",
      "metadata": {
        "colab": {
          "base_uri": "https://localhost:8080/",
          "height": 638
        },
        "id": "NEPIEY1ReZnU",
        "outputId": "550de991-4f7c-4cb9-9a8c-960916a735a0"
      },
      "source": [
        "print('Number of Comments per score')\n",
        "display(dataset.score.value_counts())\n",
        "fig=plt.figure(figsize=(8, 8))\n",
        "a = sns.countplot(y = dataset.score,order = dataset.score.value_counts().index, data = dataset).set_title('Number of Comments per score')"
      ],
      "execution_count": 7,
      "outputs": [
        {
          "output_type": "stream",
          "name": "stdout",
          "text": [
            "Number of Comments per score\n"
          ]
        },
        {
          "output_type": "display_data",
          "data": {
            "text/plain": [
              "3    5246\n",
              "5    3000\n",
              "4    2866\n",
              "1    2762\n",
              "2    2614\n",
              "Name: score, dtype: int64"
            ]
          },
          "metadata": {}
        },
        {
          "output_type": "display_data",
          "data": {
            "image/png": "[encoded data removed]",
            "text/plain": [
              "<Figure size 576x576 with 1 Axes>"
            ]
          },
          "metadata": {
            "needs_background": "light"
          }
        }
      ]
    },
    {
      "cell_type": "code",
      "metadata": {
        "id": "zyLKjlpgh_LL"
      },
      "source": [
        "def preprocessing_content(X):\n",
        "  documents = []\n",
        "  lemmatizer= WordNetLemmatizer()\n",
        "  stemmer= PorterStemmer()\n",
        "  stop_words = set(stopwords.words('english'))\n",
        "  for sen in range(0, len(X)):\n",
        "      # Remove all the special characters\n",
        "      document = re.sub(r'\\W', ' ', str(X[sen]))\n",
        "      \n",
        "      # remove all single characters\n",
        "      document = re.sub(r'\\s+[a-zA-Z]\\s+', ' ', document)\n",
        "      \n",
        "      # Remove single characters from the start\n",
        "      document = re.sub(r'\\^[a-zA-Z]\\s+', ' ', document) \n",
        "      \n",
        "      # Substituting multiple spaces with single space\n",
        "      document = re.sub(r'\\s+', ' ', document, flags=re.I)\n",
        "      \n",
        "      # Removing prefixed 'b'\n",
        "      document = re.sub(r'^b\\s+', '', document)\n",
        "      \n",
        "      # Converting to Lowercase\n",
        "      document = document.lower()\n",
        "      \n",
        "      document = word_tokenize(document)\n",
        "      \n",
        "      # Lemmatization\n",
        "      # document = [lemmatizer.lemmatize(word) for word in document]\n",
        "\n",
        "      #stopword\n",
        "      document = [i for i in document if not i in stop_words]\n",
        "\n",
        "      documents.append(\" \".join(document))\n",
        "      \n",
        "      #documents.append(document)\n",
        "  print(documents)\n",
        "  return documents\n"
      ],
      "execution_count": 8,
      "outputs": []
    },
    {
      "cell_type": "code",
      "metadata": {
        "id": "qAwGqEtRkWiu"
      },
      "source": [
        "processed_text = preprocessing_content(dataset['content'])"
      ],
      "execution_count": null,
      "outputs": []
    },
    {
      "cell_type": "markdown",
      "metadata": {
        "id": "F-FBXv5Lh0t4"
      },
      "source": [
        "# Word Embedding"
      ]
    },
    {
      "cell_type": "markdown",
      "metadata": {
        "id": "BbFJgqADEL1S"
      },
      "source": [
        "### Word Embedding using Bag Of Words"
      ]
    },
    {
      "cell_type": "code",
      "metadata": {
        "id": "twhV6-jSEM6r"
      },
      "source": [
        "def bow(data):\n",
        "  count_vect = CountVectorizer()\n",
        "  X_train_counts = count_vect.fit_transform(data)\n",
        "  print(X_train_counts.shape)\n",
        "  return X_train_counts"
      ],
      "execution_count": 10,
      "outputs": []
    },
    {
      "cell_type": "code",
      "metadata": {
        "colab": {
          "base_uri": "https://localhost:8080/"
        },
        "id": "8XqP8VitEQbW",
        "outputId": "2619141d-d91f-4087-9627-2917530b64f1"
      },
      "source": [
        "word_embedded_text = bow(processed_text)\n",
        "print(word_embedded_text.shape)"
      ],
      "execution_count": 11,
      "outputs": [
        {
          "output_type": "stream",
          "name": "stdout",
          "text": [
            "(16488, 11885)\n",
            "(16488, 11885)\n"
          ]
        }
      ]
    },
    {
      "cell_type": "markdown",
      "metadata": {
        "id": "ytFE7K8VEUey"
      },
      "source": [
        "## Word Embedding using TFIDF"
      ]
    },
    {
      "cell_type": "code",
      "metadata": {
        "id": "pDeCzWkXjQLH"
      },
      "source": [
        "# def dummy_fun(doc):\n",
        "#     return doc\n",
        "# def tfidf(data, ma = 0.6, mi = 0.0001):\n",
        "#     tfidf_vectorize = TfidfVectorizer(\n",
        "#     analyzer='word',\n",
        "#     tokenizer=dummy_fun,\n",
        "#     preprocessor=dummy_fun,\n",
        "#     token_pattern=None,\n",
        "#     max_df = ma,\n",
        "#     min_df = mi) \n",
        "#     tfidf_data = tfidf_vectorize.fit_transform(data)\n",
        "#     return tfidf_data"
      ],
      "execution_count": 12,
      "outputs": []
    },
    {
      "cell_type": "code",
      "metadata": {
        "id": "uFqNAPUUcMt0"
      },
      "source": [
        "# word_embedded_text = tfidf(processed_text)\n",
        "# print(word_embedded_text.shape)"
      ],
      "execution_count": 13,
      "outputs": []
    },
    {
      "cell_type": "markdown",
      "metadata": {
        "id": "GJPBJHt2gznJ"
      },
      "source": [
        "# Train Test split"
      ]
    },
    {
      "cell_type": "code",
      "metadata": {
        "id": "eHSGoSsHf95J"
      },
      "source": [
        "def split_data(dataset_features, labels):\n",
        "  # train 0.6 , test = 0.2 , val = 0.2\n",
        "  x_train, x_test, y_train, y_test  = sklearn.model_selection.train_test_split(dataset_features, labels, test_size=0.2) \n",
        "  print(\"X_train lenght: {}\".format(x_train.shape[0]))\n",
        "  print(\"X_test lenght: {}\".format(x_test.shape[0]))\n",
        "  return x_train, x_test, y_train, y_test "
      ],
      "execution_count": 14,
      "outputs": []
    },
    {
      "cell_type": "code",
      "metadata": {
        "colab": {
          "base_uri": "https://localhost:8080/"
        },
        "id": "8ndwLKcDg39r",
        "outputId": "15f57282-8929-4411-cc33-1b1b200bc0b4"
      },
      "source": [
        "labels = dataset['score']\n",
        "x_train, x_test, y_train, y_test = split_data(word_embedded_text, labels)"
      ],
      "execution_count": 15,
      "outputs": [
        {
          "output_type": "stream",
          "name": "stdout",
          "text": [
            "X_train lenght: 13190\n",
            "X_test lenght: 3298\n"
          ]
        }
      ]
    },
    {
      "cell_type": "markdown",
      "metadata": {
        "id": "8V0a_XHqlu1T"
      },
      "source": [
        "## 5 Class classification\n"
      ]
    },
    {
      "cell_type": "markdown",
      "metadata": {
        "id": "vrrPzmzLpTny"
      },
      "source": [
        "## Logestic Regression"
      ]
    },
    {
      "cell_type": "code",
      "metadata": {
        "id": "ZDeXptQ7KwwZ"
      },
      "source": [
        "from sklearn.linear_model import LogisticRegression\n",
        "from sklearn.metrics import classification_report\n",
        "from sklearn.pipeline import Pipeline\n",
        "from tensorflow.keras.callbacks import ReduceLROnPlateau\n",
        "def logistic_regression_model(x_train, x_test, y_train, y_test):\n",
        "\n",
        "    model = Pipeline([ ('clf', LogisticRegression(n_jobs = 1 , C = 1e5))])\n",
        "    classifier = model.fit(x_train,y_train)\n",
        "    predictions = classifier.predict(x_test)\n",
        "    print(classification_report(y_test, predictions))\n",
        "\n",
        "    fig, ax = plt.subplots(figsize=(8, 8))\n",
        "    plot_confusion_matrix(classifier, x_test, y_test, normalize='true', cmap=plt.cm.Blues, ax=ax)\n",
        "    plt.show()\n",
        "\n",
        "    return "
      ],
      "execution_count": 16,
      "outputs": []
    },
    {
      "cell_type": "code",
      "metadata": {
        "colab": {
          "base_uri": "https://localhost:8080/",
          "height": 821
        },
        "id": "MRKnP10OxFlK",
        "outputId": "d39698f4-9274-4154-d3f5-deefad45e145"
      },
      "source": [
        "logistic_regression_model(x_train, x_test, y_train, y_test)"
      ],
      "execution_count": 17,
      "outputs": [
        {
          "output_type": "stream",
          "name": "stderr",
          "text": [
            "/usr/local/lib/python3.7/dist-packages/sklearn/linear_model/_logistic.py:940: ConvergenceWarning: lbfgs failed to converge (status=1):\n",
            "STOP: TOTAL NO. of ITERATIONS REACHED LIMIT.\n",
            "\n",
            "Increase the number of iterations (max_iter) or scale the data as shown in:\n",
            "    https://scikit-learn.org/stable/modules/preprocessing.html\n",
            "Please also refer to the documentation for alternative solver options:\n",
            "    https://scikit-learn.org/stable/modules/linear_model.html#logistic-regression\n",
            "  extra_warning_msg=_LOGISTIC_SOLVER_CONVERGENCE_MSG)\n"
          ]
        },
        {
          "output_type": "stream",
          "name": "stdout",
          "text": [
            "              precision    recall  f1-score   support\n",
            "\n",
            "           1       0.63      0.63      0.63       526\n",
            "           2       0.64      0.62      0.63       520\n",
            "           3       0.67      0.71      0.69      1030\n",
            "           4       0.58      0.56      0.57       594\n",
            "           5       0.70      0.67      0.68       628\n",
            "\n",
            "    accuracy                           0.65      3298\n",
            "   macro avg       0.64      0.64      0.64      3298\n",
            "weighted avg       0.65      0.65      0.65      3298\n",
            "\n"
          ]
        },
        {
          "output_type": "display_data",
          "data": {
            "image/png": "[encoded data removed]",
            "text/plain": [
              "<Figure size 576x576 with 2 Axes>"
            ]
          },
          "metadata": {
            "needs_background": "light"
          }
        }
      ]
    },
    {
      "cell_type": "markdown",
      "metadata": {
        "id": "vXVoFeTepbAT"
      },
      "source": [
        "## SVM"
      ]
    },
    {
      "cell_type": "code",
      "metadata": {
        "id": "Ct3u3MLTJ3qy"
      },
      "source": [
        "from sklearn.svm import SVC\n",
        "def svm_model(x_train, x_test, y_train, y_test):\n",
        "  svclassifier = SVC(kernel='linear')\n",
        "  svclassifier.fit(x_train, y_train)\n",
        "  y_pred = svclassifier.predict(x_test)\n",
        "  cm = confusion_matrix(y_test,y_pred)\n",
        "  print(classification_report(y_test,y_pred))\n",
        "\n",
        "  fig, ax = plt.subplots(figsize=(8, 8))\n",
        "  plot_confusion_matrix(svclassifier, x_test, y_test, normalize='true', cmap=plt.cm.Blues, ax=ax)\n",
        "  plt.show()\n",
        "  return"
      ],
      "execution_count": 18,
      "outputs": []
    },
    {
      "cell_type": "code",
      "metadata": {
        "id": "-DLMMLEmyKu9",
        "colab": {
          "base_uri": "https://localhost:8080/",
          "height": 679
        },
        "outputId": "4c0bb77b-0fd6-4cb8-c662-840ff7dd48b8"
      },
      "source": [
        "svm_model(x_train, x_test, y_train, y_test)"
      ],
      "execution_count": 19,
      "outputs": [
        {
          "output_type": "stream",
          "name": "stdout",
          "text": [
            "              precision    recall  f1-score   support\n",
            "\n",
            "           1       0.62      0.65      0.63       526\n",
            "           2       0.63      0.55      0.59       520\n",
            "           3       0.61      0.73      0.67      1030\n",
            "           4       0.64      0.49      0.56       594\n",
            "           5       0.72      0.71      0.72       628\n",
            "\n",
            "    accuracy                           0.64      3298\n",
            "   macro avg       0.65      0.63      0.63      3298\n",
            "weighted avg       0.64      0.64      0.64      3298\n",
            "\n"
          ]
        },
        {
          "output_type": "display_data",
          "data": {
            "image/png": "[encoded data removed]",
            "text/plain": [
              "<Figure size 576x576 with 2 Axes>"
            ]
          },
          "metadata": {
            "needs_background": "light"
          }
        }
      ]
    },
    {
      "cell_type": "markdown",
      "metadata": {
        "id": "v88YnTi8X4h0"
      },
      "source": [
        "## KNN"
      ]
    },
    {
      "cell_type": "code",
      "metadata": {
        "id": "j03Ct6RzBb4x"
      },
      "source": [
        "from sklearn.neighbors import KNeighborsClassifier\n",
        "def knn_model(x_train, x_test, y_train, y_test):\n",
        "  classifier = KNeighborsClassifier(n_neighbors=5)\n",
        "  classifier.fit(x_train, y_train)\n",
        "  y_pred = classifier.predict(x_test)\n",
        "  print(classification_report(y_test, y_pred))\n",
        "  cm = confusion_matrix(y_test,y_pred)\n",
        "\n",
        "  fig, ax = plt.subplots(figsize=(8, 8))\n",
        "  plot_confusion_matrix(classifier, x_test, y_test, normalize='true', cmap=plt.cm.Blues, ax=ax)\n",
        "  plt.show()\n",
        "  return"
      ],
      "execution_count": 20,
      "outputs": []
    },
    {
      "cell_type": "code",
      "metadata": {
        "id": "w1nmlpeTyVdw",
        "colab": {
          "base_uri": "https://localhost:8080/",
          "height": 679
        },
        "outputId": "e0790568-fb48-443f-c5a4-30d82e70ff11"
      },
      "source": [
        "knn_model(x_train, x_test, y_train, y_test)"
      ],
      "execution_count": 21,
      "outputs": [
        {
          "output_type": "stream",
          "name": "stdout",
          "text": [
            "              precision    recall  f1-score   support\n",
            "\n",
            "           1       0.37      0.47      0.41       526\n",
            "           2       0.38      0.24      0.30       520\n",
            "           3       0.47      0.45      0.46      1030\n",
            "           4       0.35      0.28      0.31       594\n",
            "           5       0.40      0.54      0.46       628\n",
            "\n",
            "    accuracy                           0.41      3298\n",
            "   macro avg       0.39      0.40      0.39      3298\n",
            "weighted avg       0.41      0.41      0.40      3298\n",
            "\n"
          ]
        },
        {
          "output_type": "display_data",
          "data": {
            "image/png": "[encoded data removed]",
            "text/plain": [
              "<Figure size 576x576 with 2 Axes>"
            ]
          },
          "metadata": {
            "needs_background": "light"
          }
        }
      ]
    },
    {
      "cell_type": "markdown",
      "metadata": {
        "id": "uCkSzgms7tQm"
      },
      "source": [
        "## Decision tree"
      ]
    },
    {
      "cell_type": "code",
      "metadata": {
        "id": "jIVJo-557yFq"
      },
      "source": [
        "from sklearn.tree import DecisionTreeClassifier\n",
        "\n",
        "def decision_tree_classifier(x_train, x_test, y_train, y_test):\n",
        "  clf = DecisionTreeClassifier(class_weight='balanced')\n",
        "  clf.fit(x_train , y_train)\n",
        "  predictions = clf.predict(x_test)\n",
        "  print(classification_report(y_test, predictions))\n",
        "\n",
        "  fig, ax = plt.subplots(figsize=(8, 8))\n",
        "  plot_confusion_matrix(clf, x_test, y_test, normalize='true', cmap=plt.cm.Blues, ax=ax)\n",
        "  plt.show()"
      ],
      "execution_count": 22,
      "outputs": []
    },
    {
      "cell_type": "code",
      "metadata": {
        "colab": {
          "base_uri": "https://localhost:8080/",
          "height": 679
        },
        "id": "tRyj59OZ7zmH",
        "outputId": "7f40cb18-c64d-471c-c04d-77e9d07fcf7a"
      },
      "source": [
        "decision_tree_classifier(x_train, x_test, y_train, y_test)"
      ],
      "execution_count": 23,
      "outputs": [
        {
          "output_type": "stream",
          "name": "stdout",
          "text": [
            "              precision    recall  f1-score   support\n",
            "\n",
            "           1       0.60      0.66      0.63       526\n",
            "           2       0.62      0.65      0.64       520\n",
            "           3       0.70      0.65      0.67      1030\n",
            "           4       0.55      0.55      0.55       594\n",
            "           5       0.64      0.63      0.63       628\n",
            "\n",
            "    accuracy                           0.63      3298\n",
            "   macro avg       0.62      0.63      0.62      3298\n",
            "weighted avg       0.63      0.63      0.63      3298\n",
            "\n"
          ]
        },
        {
          "output_type": "display_data",
          "data": {
            "image/png": "[encoded data removed]",
            "text/plain": [
              "<Figure size 576x576 with 2 Axes>"
            ]
          },
          "metadata": {
            "needs_background": "light"
          }
        }
      ]
    },
    {
      "cell_type": "markdown",
      "metadata": {
        "id": "cPzVKM8zlQb2"
      },
      "source": [
        "## 5 Class cluster (k-means)"
      ]
    },
    {
      "cell_type": "code",
      "metadata": {
        "id": "UB1ILmevlYia"
      },
      "source": [
        "from sklearn.cluster import KMeans\n",
        "\n",
        "def Kmeans(x_train, x_test, y_train, y_test):\n",
        "        n_clusters = len(np.unique(y_train))\n",
        "        clf = KMeans(n_clusters = n_clusters, random_state=42)\n",
        "        clf.fit(x_train)\n",
        "        y_pred = clf.predict(x_test)\n",
        "        y_pred_new = [y+1 for y in y_pred]\n",
        "        cm = confusion_matrix(y_test,y_pred)\n",
        "        print(classification_report(y_test,y_pred))\n",
        "        print(cm)\n",
        "        return"
      ],
      "execution_count": 24,
      "outputs": []
    },
    {
      "cell_type": "code",
      "metadata": {
        "colab": {
          "base_uri": "https://localhost:8080/"
        },
        "id": "b-tcXsaKlanM",
        "outputId": "940099ee-49e2-47e6-e410-b27979af21da"
      },
      "source": [
        "Kmeans(x_train, x_test, y_train, y_test)"
      ],
      "execution_count": 25,
      "outputs": [
        {
          "output_type": "stream",
          "name": "stdout",
          "text": [
            "              precision    recall  f1-score   support\n",
            "\n",
            "           0       0.00      0.00      0.00         0\n",
            "           1       0.17      0.47      0.25       526\n",
            "           2       0.00      0.00      0.00       520\n",
            "           3       0.35      0.10      0.16      1030\n",
            "           4       0.19      0.12      0.15       594\n",
            "           5       0.00      0.00      0.00       628\n",
            "\n",
            "    accuracy                           0.13      3298\n",
            "   macro avg       0.12      0.12      0.09      3298\n",
            "weighted avg       0.17      0.13      0.12      3298\n",
            "\n",
            "[[  0   0   0   0   0   0]\n",
            " [185 248   1  28  64   0]\n",
            " [171 246   0  34  69   0]\n",
            " [323 495   1 106 105   0]\n",
            " [192 235   0  94  73   0]\n",
            " [254 263   1  43  67   0]]\n"
          ]
        },
        {
          "output_type": "stream",
          "name": "stderr",
          "text": [
            "/usr/local/lib/python3.7/dist-packages/sklearn/metrics/_classification.py:1272: UndefinedMetricWarning: Precision and F-score are ill-defined and being set to 0.0 in labels with no predicted samples. Use `zero_division` parameter to control this behavior.\n",
            "  _warn_prf(average, modifier, msg_start, len(result))\n",
            "/usr/local/lib/python3.7/dist-packages/sklearn/metrics/_classification.py:1272: UndefinedMetricWarning: Recall and F-score are ill-defined and being set to 0.0 in labels with no true samples. Use `zero_division` parameter to control this behavior.\n",
            "  _warn_prf(average, modifier, msg_start, len(result))\n"
          ]
        }
      ]
    },
    {
      "cell_type": "markdown",
      "metadata": {
        "id": "CRzSoo92u6Gi"
      },
      "source": [
        "# 3 Class classification"
      ]
    },
    {
      "cell_type": "code",
      "metadata": {
        "id": "-JRRGy9LJHTy",
        "colab": {
          "base_uri": "https://localhost:8080/"
        },
        "outputId": "9cc32fbc-5cd6-44a5-e6b4-c934fb2bbe56"
      },
      "source": [
        "labels = dataset['score'].replace(2, 1).replace(4, 5)\n",
        "print(labels.unique())\n",
        "x_train, x_test, y_train, y_test = split_data(word_embedded_text, labels)"
      ],
      "execution_count": 26,
      "outputs": [
        {
          "output_type": "stream",
          "name": "stdout",
          "text": [
            "[1 3 5]\n",
            "X_train lenght: 13190\n",
            "X_test lenght: 3298\n"
          ]
        }
      ]
    },
    {
      "cell_type": "markdown",
      "metadata": {
        "id": "wATKBdF8nBXM"
      },
      "source": [
        "## Logestic Regression"
      ]
    },
    {
      "cell_type": "code",
      "metadata": {
        "id": "eGR7mmenypDS",
        "colab": {
          "base_uri": "https://localhost:8080/",
          "height": 786
        },
        "outputId": "5b3dbff6-da20-4c7c-fb9c-d667e36d0e19"
      },
      "source": [
        "logistic_regression_model(x_train, x_test, y_train, y_test)"
      ],
      "execution_count": 27,
      "outputs": [
        {
          "output_type": "stream",
          "name": "stderr",
          "text": [
            "/usr/local/lib/python3.7/dist-packages/sklearn/linear_model/_logistic.py:940: ConvergenceWarning: lbfgs failed to converge (status=1):\n",
            "STOP: TOTAL NO. of ITERATIONS REACHED LIMIT.\n",
            "\n",
            "Increase the number of iterations (max_iter) or scale the data as shown in:\n",
            "    https://scikit-learn.org/stable/modules/preprocessing.html\n",
            "Please also refer to the documentation for alternative solver options:\n",
            "    https://scikit-learn.org/stable/modules/linear_model.html#logistic-regression\n",
            "  extra_warning_msg=_LOGISTIC_SOLVER_CONVERGENCE_MSG)\n"
          ]
        },
        {
          "output_type": "stream",
          "name": "stdout",
          "text": [
            "              precision    recall  f1-score   support\n",
            "\n",
            "           1       0.76      0.75      0.76      1060\n",
            "           3       0.66      0.70      0.68      1025\n",
            "           5       0.80      0.77      0.79      1213\n",
            "\n",
            "    accuracy                           0.74      3298\n",
            "   macro avg       0.74      0.74      0.74      3298\n",
            "weighted avg       0.74      0.74      0.74      3298\n",
            "\n"
          ]
        },
        {
          "output_type": "display_data",
          "data": {
            "image/png": "[encoded data removed]",
            "text/plain": [
              "<Figure size 576x576 with 2 Axes>"
            ]
          },
          "metadata": {
            "needs_background": "light"
          }
        }
      ]
    },
    {
      "cell_type": "markdown",
      "metadata": {
        "id": "SS_zmV-YnC8k"
      },
      "source": [
        "## SVM"
      ]
    },
    {
      "cell_type": "code",
      "metadata": {
        "id": "rSyYEvZ1yv75",
        "colab": {
          "base_uri": "https://localhost:8080/",
          "height": 644
        },
        "outputId": "7fadbd6a-56d0-4b55-daf3-5cee311c0548"
      },
      "source": [
        "svm_model(x_train, x_test, y_train, y_test)"
      ],
      "execution_count": 28,
      "outputs": [
        {
          "output_type": "stream",
          "name": "stdout",
          "text": [
            "              precision    recall  f1-score   support\n",
            "\n",
            "           1       0.71      0.75      0.73      1060\n",
            "           3       0.66      0.63      0.64      1025\n",
            "           5       0.78      0.78      0.78      1213\n",
            "\n",
            "    accuracy                           0.72      3298\n",
            "   macro avg       0.72      0.72      0.72      3298\n",
            "weighted avg       0.72      0.72      0.72      3298\n",
            "\n"
          ]
        },
        {
          "output_type": "display_data",
          "data": {
            "image/png": "[encoded data removed]",
            "text/plain": [
              "<Figure size 576x576 with 2 Axes>"
            ]
          },
          "metadata": {
            "needs_background": "light"
          }
        }
      ]
    },
    {
      "cell_type": "markdown",
      "metadata": {
        "id": "9oE3XIxunHo9"
      },
      "source": [
        "## KNN"
      ]
    },
    {
      "cell_type": "code",
      "metadata": {
        "id": "mkh_2mUP4WxZ"
      },
      "source": [
        "from sklearn.neighbors import KNeighborsClassifier\n",
        "def knn_model(x_train, x_test, y_train, y_test):\n",
        "  classifier = KNeighborsClassifier(n_neighbors=3)\n",
        "  classifier.fit(x_train, y_train)\n",
        "  y_pred = classifier.predict(x_test)\n",
        "  print(classification_report(y_test, y_pred))\n",
        "  cm = confusion_matrix(y_test,y_pred)\n",
        "\n",
        "  fig, ax = plt.subplots(figsize=(8, 8))\n",
        "  plot_confusion_matrix(classifier, x_test, y_test, normalize='true', cmap=plt.cm.Blues, ax=ax)\n",
        "  plt.show()\n",
        "  return"
      ],
      "execution_count": 29,
      "outputs": []
    },
    {
      "cell_type": "code",
      "metadata": {
        "id": "O6Zeej2syylU",
        "colab": {
          "base_uri": "https://localhost:8080/",
          "height": 644
        },
        "outputId": "51dbaa63-8aaa-4c59-be16-fd36dcfb88bb"
      },
      "source": [
        "knn_model(x_train, x_test, y_train, y_test)"
      ],
      "execution_count": 30,
      "outputs": [
        {
          "output_type": "stream",
          "name": "stdout",
          "text": [
            "              precision    recall  f1-score   support\n",
            "\n",
            "           1       0.56      0.54      0.55      1060\n",
            "           3       0.48      0.44      0.46      1025\n",
            "           5       0.63      0.69      0.66      1213\n",
            "\n",
            "    accuracy                           0.56      3298\n",
            "   macro avg       0.56      0.56      0.56      3298\n",
            "weighted avg       0.56      0.56      0.56      3298\n",
            "\n"
          ]
        },
        {
          "output_type": "display_data",
          "data": {
            "image/png": "[encoded data removed]",
            "text/plain": [
              "<Figure size 576x576 with 2 Axes>"
            ]
          },
          "metadata": {
            "needs_background": "light"
          }
        }
      ]
    },
    {
      "cell_type": "markdown",
      "metadata": {
        "id": "kSqHYS5473O4"
      },
      "source": [
        "## Decision tree"
      ]
    },
    {
      "cell_type": "code",
      "metadata": {
        "id": "wvfMEzvZnZQK",
        "colab": {
          "base_uri": "https://localhost:8080/",
          "height": 647
        },
        "outputId": "b96f9982-d205-4db9-9f4f-1231ecec1a29"
      },
      "source": [
        "decision_tree_classifier(x_train, x_test, y_train, y_test)"
      ],
      "execution_count": 31,
      "outputs": [
        {
          "output_type": "stream",
          "name": "stdout",
          "text": [
            "              precision    recall  f1-score   support\n",
            "\n",
            "           1       0.74      0.74      0.74      1060\n",
            "           3       0.68      0.70      0.69      1025\n",
            "           5       0.77      0.75      0.76      1213\n",
            "\n",
            "    accuracy                           0.73      3298\n",
            "   macro avg       0.73      0.73      0.73      3298\n",
            "weighted avg       0.73      0.73      0.73      3298\n",
            "\n"
          ]
        },
        {
          "output_type": "display_data",
          "data": {
            "image/png": "[encoded data removed]",
            "text/plain": [
              "<Figure size 576x576 with 2 Axes>"
            ]
          },
          "metadata": {
            "needs_background": "light"
          }
        }
      ]
    }
  ]
}