{
  "nbformat": 4,
  "nbformat_minor": 0,
  "metadata": {
    "colab": {
      "name": "pca_code_baharamirian_96243008.ipynb",
      "provenance": [],
      "collapsed_sections": []
    },
    "kernelspec": {
      "name": "python3",
      "display_name": "Python 3"
    }
  },
  "cells": [
    {
      "cell_type": "code",
      "metadata": {
        "colab": {
          "base_uri": "https://localhost:8080/"
        },
        "id": "xMDUmuCTBeZ6",
        "outputId": "2d5897d9-8473-49c8-ae6e-3b17ee36b5ef"
      },
      "source": [
        "from google.colab import drive\r\n",
        "drive.mount('/content/drive',force_remount=True)"
      ],
      "execution_count": 33,
      "outputs": [
        {
          "output_type": "stream",
          "text": [
            "Mounted at /content/drive\n"
          ],
          "name": "stdout"
        }
      ]
    },
    {
      "cell_type": "code",
      "metadata": {
        "id": "JNpcxnTOBrZV"
      },
      "source": [
        "import pandas as pd \r\n",
        "import csv\r\n",
        "import numpy as np"
      ],
      "execution_count": 34,
      "outputs": []
    },
    {
      "cell_type": "code",
      "metadata": {
        "id": "9xgnnKxsBtYY"
      },
      "source": [
        "# df = pd.read_csv(\"/content/drive/My Drive/newreviews.csv\") \r\n",
        "# برای اجرای مجدد لطفا دیتاست پیوست با نام زیر را آپلود کرده و سپس ادامه کد را اجزا کنید\r\n",
        "df = pd.read_csv(\"newreviews.csv\") "
      ],
      "execution_count": 35,
      "outputs": []
    },
    {
      "cell_type": "code",
      "metadata": {
        "colab": {
          "base_uri": "https://localhost:8080/",
          "height": 714
        },
        "id": "vQVNVXDtBvSL",
        "outputId": "45274517-b9d2-4095-a9cc-90e51812bb78"
      },
      "source": [
        "df.head()"
      ],
      "execution_count": 36,
      "outputs": [
        {
          "output_type": "execute_result",
          "data": {
            "text/html": [
              "<div>\n",
              "<style scoped>\n",
              "    .dataframe tbody tr th:only-of-type {\n",
              "        vertical-align: middle;\n",
              "    }\n",
              "\n",
              "    .dataframe tbody tr th {\n",
              "        vertical-align: top;\n",
              "    }\n",
              "\n",
              "    .dataframe thead th {\n",
              "        text-align: right;\n",
              "    }\n",
              "</style>\n",
              "<table border=\"1\" class=\"dataframe\">\n",
              "  <thead>\n",
              "    <tr style=\"text-align: right;\">\n",
              "      <th></th>\n",
              "      <th>reviewId</th>\n",
              "      <th>userName</th>\n",
              "      <th>userImage</th>\n",
              "      <th>content</th>\n",
              "      <th>score</th>\n",
              "      <th>thumbsUpCount</th>\n",
              "      <th>reviewCreatedVersion</th>\n",
              "      <th>at</th>\n",
              "      <th>replyContent</th>\n",
              "      <th>repliedAt</th>\n",
              "      <th>sortOrder</th>\n",
              "      <th>appId</th>\n",
              "      <th>totalScore</th>\n",
              "    </tr>\n",
              "  </thead>\n",
              "  <tbody>\n",
              "    <tr>\n",
              "      <th>0</th>\n",
              "      <td>gp:AOqpTOH2VEhd1ldAR1zxGzjJEIa37fCBgY9S3sqe_TE...</td>\n",
              "      <td>Matt Van Der Schyff</td>\n",
              "      <td>https://play-lh.googleusercontent.com/-sMd4wLr...</td>\n",
              "      <td>originally gave this a 2 star but I think it o...</td>\n",
              "      <td>1</td>\n",
              "      <td>81</td>\n",
              "      <td>5.9.0.2</td>\n",
              "      <td>2021-02-04 05:35:28</td>\n",
              "      <td>We are unaware of any issues with setting remi...</td>\n",
              "      <td>2021-02-04 09:08:06</td>\n",
              "      <td>most_relevant</td>\n",
              "      <td>com.anydo</td>\n",
              "      <td>4.43388</td>\n",
              "    </tr>\n",
              "    <tr>\n",
              "      <th>1</th>\n",
              "      <td>gp:AOqpTOH5OkwJH-nRT4nopD_JNTIYpWs1xWzOsFE-pn7...</td>\n",
              "      <td>Charles Green</td>\n",
              "      <td>https://play-lh.googleusercontent.com/a-/AOh14...</td>\n",
              "      <td>Ugh! After years of using this app, I am so ve...</td>\n",
              "      <td>1</td>\n",
              "      <td>9</td>\n",
              "      <td>5.9.0.2</td>\n",
              "      <td>2021-02-17 19:10:03</td>\n",
              "      <td>From checking our records, the issue you've re...</td>\n",
              "      <td>2021-02-18 11:22:00</td>\n",
              "      <td>most_relevant</td>\n",
              "      <td>com.anydo</td>\n",
              "      <td>4.43388</td>\n",
              "    </tr>\n",
              "    <tr>\n",
              "      <th>2</th>\n",
              "      <td>gp:AOqpTOEaw6IQ_8TizWQrZCvwfKfhYqJ0n6GxwFuQF7u...</td>\n",
              "      <td>sree haran</td>\n",
              "      <td>https://play-lh.googleusercontent.com/a-/AOh14...</td>\n",
              "      <td>Even though this app is good, I'll give only o...</td>\n",
              "      <td>1</td>\n",
              "      <td>57</td>\n",
              "      <td>5.7.0.20</td>\n",
              "      <td>2021-01-25 17:35:37</td>\n",
              "      <td>To clear your completed tasks, simply press th...</td>\n",
              "      <td>2021-01-26 13:38:30</td>\n",
              "      <td>most_relevant</td>\n",
              "      <td>com.anydo</td>\n",
              "      <td>4.43388</td>\n",
              "    </tr>\n",
              "    <tr>\n",
              "      <th>3</th>\n",
              "      <td>gp:AOqpTOG4LKg25ejg1Hw1TWs6_gIXhpwJRZZpXssMygx...</td>\n",
              "      <td>Andi Tan</td>\n",
              "      <td>https://play-lh.googleusercontent.com/-vozop-l...</td>\n",
              "      <td>I'm a new user. I think this app's great. I tr...</td>\n",
              "      <td>1</td>\n",
              "      <td>12</td>\n",
              "      <td>5.9.0.2</td>\n",
              "      <td>2021-02-07 11:54:54</td>\n",
              "      <td>The Quick-add bar on the device's Notification...</td>\n",
              "      <td>2021-02-09 09:19:18</td>\n",
              "      <td>most_relevant</td>\n",
              "      <td>com.anydo</td>\n",
              "      <td>4.43388</td>\n",
              "    </tr>\n",
              "    <tr>\n",
              "      <th>4</th>\n",
              "      <td>gp:AOqpTOGQ7NShvSVr9Vqz67MSeTN_3rkBuYtQRtsyAo5...</td>\n",
              "      <td>Drew Dayman</td>\n",
              "      <td>https://play-lh.googleusercontent.com/a-/AOh14...</td>\n",
              "      <td>Bought it to use with Alexa. After multiple at...</td>\n",
              "      <td>1</td>\n",
              "      <td>1</td>\n",
              "      <td>5.9.0.2</td>\n",
              "      <td>2021-02-12 20:35:18</td>\n",
              "      <td>NaN</td>\n",
              "      <td>NaN</td>\n",
              "      <td>most_relevant</td>\n",
              "      <td>com.anydo</td>\n",
              "      <td>4.43388</td>\n",
              "    </tr>\n",
              "  </tbody>\n",
              "</table>\n",
              "</div>"
            ],
            "text/plain": [
              "                                            reviewId  ... totalScore\n",
              "0  gp:AOqpTOH2VEhd1ldAR1zxGzjJEIa37fCBgY9S3sqe_TE...  ...    4.43388\n",
              "1  gp:AOqpTOH5OkwJH-nRT4nopD_JNTIYpWs1xWzOsFE-pn7...  ...    4.43388\n",
              "2  gp:AOqpTOEaw6IQ_8TizWQrZCvwfKfhYqJ0n6GxwFuQF7u...  ...    4.43388\n",
              "3  gp:AOqpTOG4LKg25ejg1Hw1TWs6_gIXhpwJRZZpXssMygx...  ...    4.43388\n",
              "4  gp:AOqpTOGQ7NShvSVr9Vqz67MSeTN_3rkBuYtQRtsyAo5...  ...    4.43388\n",
              "\n",
              "[5 rows x 13 columns]"
            ]
          },
          "metadata": {
            "tags": []
          },
          "execution_count": 36
        }
      ]
    },
    {
      "cell_type": "code",
      "metadata": {
        "colab": {
          "base_uri": "https://localhost:8080/"
        },
        "id": "nwLl_oWMU4Je",
        "outputId": "3bb739a4-7577-45ed-bfac-59704da9ea4f"
      },
      "source": [
        "# ابتدا ستون‌های عددی را جدا کرده و در آرایه‌های زیر قرار می‌دهیم\r\n",
        "prev_data = df.select_dtypes(include=np.number)\r\n",
        "a = prev_data[\"score\"].to_numpy()\r\n",
        "b = prev_data[\"thumbsUpCount\"].to_numpy()\r\n",
        "c = prev_data[\"totalScore\"].to_numpy()\r\n",
        "print(a)\r\n",
        "print(b)\r\n",
        "print(c)"
      ],
      "execution_count": 37,
      "outputs": [
        {
          "output_type": "stream",
          "text": [
            "[1 1 1 ... 5 5 5]\n",
            "[81  9 57 ...  0  0  0]\n",
            "[4.43388   4.43388   4.43388   ... 4.3803525 4.3803525 4.3803525]\n"
          ],
          "name": "stdout"
        }
      ]
    },
    {
      "cell_type": "code",
      "metadata": {
        "id": "jR6cUmyaFayX"
      },
      "source": [
        "# برای محاسبه میانگین از تابع زیر استفاده می‌کنیم\r\n",
        "def mean(feature):\r\n",
        "  means = 0\r\n",
        "  for x in feature:\r\n",
        "    means = means + x\r\n",
        "  means/=len(feature)\r\n",
        "  return means"
      ],
      "execution_count": 38,
      "outputs": []
    },
    {
      "cell_type": "code",
      "metadata": {
        "colab": {
          "base_uri": "https://localhost:8080/"
        },
        "id": "fOwYhLGsFjUw",
        "outputId": "aa044b22-853f-4d24-df6b-54cce91b7a20"
      },
      "source": [
        "# میانگین هر ستون از داده را محاسبه می‌کنیم\r\n",
        "aa = mean(a)\r\n",
        "bb = mean(b)\r\n",
        "cc = mean(c)\r\n",
        "print(aa)\r\n",
        "print(bb)\r\n",
        "print(cc)"
      ],
      "execution_count": 39,
      "outputs": [
        {
          "output_type": "stream",
          "text": [
            "3.047356828193833\n",
            "5.343795888399413\n",
            "4.4912845634364125\n"
          ],
          "name": "stdout"
        }
      ]
    },
    {
      "cell_type": "code",
      "metadata": {
        "colab": {
          "base_uri": "https://localhost:8080/"
        },
        "id": "68QuQiO7F8u6",
        "outputId": "6ce09b4e-6154-42ef-f81a-be10baf328e4"
      },
      "source": [
        "# میانگین داده‌ها را از مقدار آنها کم می‌کنیم\r\n",
        "a = a-aa\r\n",
        "b = b-bb\r\n",
        "c = c-cc\r\n",
        "print(a)\r\n",
        "print(b)\r\n",
        "print(c)"
      ],
      "execution_count": 40,
      "outputs": [
        {
          "output_type": "stream",
          "text": [
            "[-2.04735683 -2.04735683 -2.04735683 ...  1.95264317  1.95264317\n",
            "  1.95264317]\n",
            "[75.65620411  3.65620411 51.65620411 ... -5.34379589 -5.34379589\n",
            " -5.34379589]\n",
            "[-0.05740456 -0.05740456 -0.05740456 ... -0.11093206 -0.11093206\n",
            " -0.11093206]\n"
          ],
          "name": "stdout"
        }
      ]
    },
    {
      "cell_type": "code",
      "metadata": {
        "id": "cPmt3ARUl2Qu"
      },
      "source": [
        "# داده‌های جدید را کنار هم قرار می‌دهیم\r\n",
        "prev_data = pd.DataFrame(a,columns=[\"1\"])\r\n",
        "prev_data[\"2\"] = b\r\n",
        "prev_data[\"3\"] = c"
      ],
      "execution_count": 41,
      "outputs": []
    },
    {
      "cell_type": "code",
      "metadata": {
        "colab": {
          "base_uri": "https://localhost:8080/"
        },
        "id": "sabXKUZfIVOa",
        "outputId": "57923370-7488-45f3-9d91-a980cc8de354"
      },
      "source": [
        "# داده هارا کنار هم گذاشته، ماتریس کو-واریانس را محاسبه می‌کنیم\r\n",
        "CO = np.cov(prev_data.to_numpy().T)\r\n",
        "print (CO)"
      ],
      "execution_count": 42,
      "outputs": [
        {
          "output_type": "stream",
          "text": [
            "[[ 1.73807415e+00 -8.22988314e-01 -7.34591495e-03]\n",
            " [-8.22988314e-01  4.01634535e+02 -7.78727107e-02]\n",
            " [-7.34591495e-03 -7.78727107e-02  2.88884872e-02]]\n"
          ],
          "name": "stdout"
        }
      ]
    },
    {
      "cell_type": "code",
      "metadata": {
        "id": "tllmQ4IumEOt"
      },
      "source": [
        "# بردار و مقدار ویژه ها را محاسبه می‌کنیم\r\n",
        "w, v = np.linalg.eig(CO)"
      ],
      "execution_count": 43,
      "outputs": []
    },
    {
      "cell_type": "code",
      "metadata": {
        "colab": {
          "base_uri": "https://localhost:8080/"
        },
        "id": "wbz2zS--SNIq",
        "outputId": "374015a3-630c-46a9-8e4a-5d235f0cf313"
      },
      "source": [
        "# مقدارهای ویژه به صورت زیر هستند، مقدار اول از همه بزرگتر و مقدار سوم از همه کوچکتر است\r\n",
        "print(w)"
      ],
      "execution_count": 44,
      "outputs": [
        {
          "output_type": "stream",
          "text": [
            "[4.01636244e+02 1.73641344e+00 2.88403971e-02]\n"
          ],
          "name": "stdout"
        }
      ]
    },
    {
      "cell_type": "code",
      "metadata": {
        "colab": {
          "base_uri": "https://localhost:8080/"
        },
        "id": "mmc8qxrCLFmU",
        "outputId": "86a0cead-d577-4ae7-a250-84d4db4f7bd3"
      },
      "source": [
        "# بین مقادیر ویژه درصد گیری می‌کنیم و می‌توانیم با تعیین کردن یک حد مرزی، بردارهایی با مقدار ویژه زیر آن حد را حذف کنیم\r\n",
        "# مثلا در اینجا مقدار سوم از همه کمتر است و آن را در نهایت حذف خواهیم کرد\r\n",
        "sum_of_w = np.sum(w)\r\n",
        "w = (w/sum_of_w)*100\r\n",
        "print(w)"
      ],
      "execution_count": 45,
      "outputs": [
        {
          "output_type": "stream",
          "text": [
            "[9.95624077e+01 4.30442983e-01 7.14930342e-03]\n"
          ],
          "name": "stdout"
        }
      ]
    },
    {
      "cell_type": "code",
      "metadata": {
        "colab": {
          "base_uri": "https://localhost:8080/"
        },
        "id": "bzRJbSezSPOZ",
        "outputId": "3b6b720e-bac7-4d47-e2a0-8f5b9b3fa5a0"
      },
      "source": [
        "# بردارهای ویژه به صورت زیر هستند\r\n",
        "print(v)"
      ],
      "execution_count": 46,
      "outputs": [
        {
          "output_type": "stream",
          "text": [
            "[[ 2.05798674e-03 -9.99988222e-01  4.39544062e-03]\n",
            " [-9.99997864e-01 -2.05711470e-03  2.02908858e-04]\n",
            " [ 1.93864543e-04  4.39584881e-03  9.99990319e-01]]\n"
          ],
          "name": "stdout"
        }
      ]
    },
    {
      "cell_type": "code",
      "metadata": {
        "id": "JFdwfjtLXTBQ"
      },
      "source": [
        "# با ضرب بردارهای ویژه در مقادیر قبلی به مقادیر جدیدی می‌رسیم\r\n",
        "new_data = prev_data.dot(v.T)"
      ],
      "execution_count": 47,
      "outputs": []
    },
    {
      "cell_type": "code",
      "metadata": {
        "id": "62ghNr1pVJlr"
      },
      "source": [
        "# از داده‌های جدید ایجاد شده سه ستون ایجاد می‌کنیم\r\n",
        "new_1 = new_data[0]\r\n",
        "new_2 = new_data[1]\r\n",
        "new_3 = new_data[2]"
      ],
      "execution_count": 48,
      "outputs": []
    },
    {
      "cell_type": "code",
      "metadata": {
        "id": "0PI0qY1HRWtX"
      },
      "source": [
        "# ستون‌های مربوط به داده قبلی را حذف می‌کنیم\r\n",
        "df.drop('score',inplace=True, axis=1)\r\n",
        "df.drop('thumbsUpCount', inplace=True, axis=1)\r\n",
        "df.drop('totalScore', inplace=True, axis=1)"
      ],
      "execution_count": 49,
      "outputs": []
    },
    {
      "cell_type": "code",
      "metadata": {
        "colab": {
          "base_uri": "https://localhost:8080/",
          "height": 714
        },
        "id": "n-8pVnb-SfW3",
        "outputId": "269e9f1a-8814-4569-ccf7-7d64f500efc3"
      },
      "source": [
        "df.head()"
      ],
      "execution_count": 50,
      "outputs": [
        {
          "output_type": "execute_result",
          "data": {
            "text/html": [
              "<div>\n",
              "<style scoped>\n",
              "    .dataframe tbody tr th:only-of-type {\n",
              "        vertical-align: middle;\n",
              "    }\n",
              "\n",
              "    .dataframe tbody tr th {\n",
              "        vertical-align: top;\n",
              "    }\n",
              "\n",
              "    .dataframe thead th {\n",
              "        text-align: right;\n",
              "    }\n",
              "</style>\n",
              "<table border=\"1\" class=\"dataframe\">\n",
              "  <thead>\n",
              "    <tr style=\"text-align: right;\">\n",
              "      <th></th>\n",
              "      <th>reviewId</th>\n",
              "      <th>userName</th>\n",
              "      <th>userImage</th>\n",
              "      <th>content</th>\n",
              "      <th>reviewCreatedVersion</th>\n",
              "      <th>at</th>\n",
              "      <th>replyContent</th>\n",
              "      <th>repliedAt</th>\n",
              "      <th>sortOrder</th>\n",
              "      <th>appId</th>\n",
              "    </tr>\n",
              "  </thead>\n",
              "  <tbody>\n",
              "    <tr>\n",
              "      <th>0</th>\n",
              "      <td>gp:AOqpTOH2VEhd1ldAR1zxGzjJEIa37fCBgY9S3sqe_TE...</td>\n",
              "      <td>Matt Van Der Schyff</td>\n",
              "      <td>https://play-lh.googleusercontent.com/-sMd4wLr...</td>\n",
              "      <td>originally gave this a 2 star but I think it o...</td>\n",
              "      <td>5.9.0.2</td>\n",
              "      <td>2021-02-04 05:35:28</td>\n",
              "      <td>We are unaware of any issues with setting remi...</td>\n",
              "      <td>2021-02-04 09:08:06</td>\n",
              "      <td>most_relevant</td>\n",
              "      <td>com.anydo</td>\n",
              "    </tr>\n",
              "    <tr>\n",
              "      <th>1</th>\n",
              "      <td>gp:AOqpTOH5OkwJH-nRT4nopD_JNTIYpWs1xWzOsFE-pn7...</td>\n",
              "      <td>Charles Green</td>\n",
              "      <td>https://play-lh.googleusercontent.com/a-/AOh14...</td>\n",
              "      <td>Ugh! After years of using this app, I am so ve...</td>\n",
              "      <td>5.9.0.2</td>\n",
              "      <td>2021-02-17 19:10:03</td>\n",
              "      <td>From checking our records, the issue you've re...</td>\n",
              "      <td>2021-02-18 11:22:00</td>\n",
              "      <td>most_relevant</td>\n",
              "      <td>com.anydo</td>\n",
              "    </tr>\n",
              "    <tr>\n",
              "      <th>2</th>\n",
              "      <td>gp:AOqpTOEaw6IQ_8TizWQrZCvwfKfhYqJ0n6GxwFuQF7u...</td>\n",
              "      <td>sree haran</td>\n",
              "      <td>https://play-lh.googleusercontent.com/a-/AOh14...</td>\n",
              "      <td>Even though this app is good, I'll give only o...</td>\n",
              "      <td>5.7.0.20</td>\n",
              "      <td>2021-01-25 17:35:37</td>\n",
              "      <td>To clear your completed tasks, simply press th...</td>\n",
              "      <td>2021-01-26 13:38:30</td>\n",
              "      <td>most_relevant</td>\n",
              "      <td>com.anydo</td>\n",
              "    </tr>\n",
              "    <tr>\n",
              "      <th>3</th>\n",
              "      <td>gp:AOqpTOG4LKg25ejg1Hw1TWs6_gIXhpwJRZZpXssMygx...</td>\n",
              "      <td>Andi Tan</td>\n",
              "      <td>https://play-lh.googleusercontent.com/-vozop-l...</td>\n",
              "      <td>I'm a new user. I think this app's great. I tr...</td>\n",
              "      <td>5.9.0.2</td>\n",
              "      <td>2021-02-07 11:54:54</td>\n",
              "      <td>The Quick-add bar on the device's Notification...</td>\n",
              "      <td>2021-02-09 09:19:18</td>\n",
              "      <td>most_relevant</td>\n",
              "      <td>com.anydo</td>\n",
              "    </tr>\n",
              "    <tr>\n",
              "      <th>4</th>\n",
              "      <td>gp:AOqpTOGQ7NShvSVr9Vqz67MSeTN_3rkBuYtQRtsyAo5...</td>\n",
              "      <td>Drew Dayman</td>\n",
              "      <td>https://play-lh.googleusercontent.com/a-/AOh14...</td>\n",
              "      <td>Bought it to use with Alexa. After multiple at...</td>\n",
              "      <td>5.9.0.2</td>\n",
              "      <td>2021-02-12 20:35:18</td>\n",
              "      <td>NaN</td>\n",
              "      <td>NaN</td>\n",
              "      <td>most_relevant</td>\n",
              "      <td>com.anydo</td>\n",
              "    </tr>\n",
              "  </tbody>\n",
              "</table>\n",
              "</div>"
            ],
            "text/plain": [
              "                                            reviewId  ...      appId\n",
              "0  gp:AOqpTOH2VEhd1ldAR1zxGzjJEIa37fCBgY9S3sqe_TE...  ...  com.anydo\n",
              "1  gp:AOqpTOH5OkwJH-nRT4nopD_JNTIYpWs1xWzOsFE-pn7...  ...  com.anydo\n",
              "2  gp:AOqpTOEaw6IQ_8TizWQrZCvwfKfhYqJ0n6GxwFuQF7u...  ...  com.anydo\n",
              "3  gp:AOqpTOG4LKg25ejg1Hw1TWs6_gIXhpwJRZZpXssMygx...  ...  com.anydo\n",
              "4  gp:AOqpTOGQ7NShvSVr9Vqz67MSeTN_3rkBuYtQRtsyAo5...  ...  com.anydo\n",
              "\n",
              "[5 rows x 10 columns]"
            ]
          },
          "metadata": {
            "tags": []
          },
          "execution_count": 50
        }
      ]
    },
    {
      "cell_type": "code",
      "metadata": {
        "id": "9zupbIO3SjeH"
      },
      "source": [
        "# به تعداد دلخواه از ستون‌های ایجاد شده با توجه به نتایج قبلی صرف نظر کرده و بقیه را اضافه می‌کنیم\r\n",
        "# در اینجا دو ستون از سه ستون ایجاد شده را اضافه می‌کنیم\r\n",
        "df['new_feature_1'] = new_1\r\n",
        "df['new_feature_2'] = new_2"
      ],
      "execution_count": 51,
      "outputs": []
    },
    {
      "cell_type": "code",
      "metadata": {
        "colab": {
          "base_uri": "https://localhost:8080/",
          "height": 714
        },
        "id": "tEAPR0dRTCF9",
        "outputId": "3cedfd22-506d-47e7-9da4-8206a729442e"
      },
      "source": [
        "df.head()"
      ],
      "execution_count": 52,
      "outputs": [
        {
          "output_type": "execute_result",
          "data": {
            "text/html": [
              "<div>\n",
              "<style scoped>\n",
              "    .dataframe tbody tr th:only-of-type {\n",
              "        vertical-align: middle;\n",
              "    }\n",
              "\n",
              "    .dataframe tbody tr th {\n",
              "        vertical-align: top;\n",
              "    }\n",
              "\n",
              "    .dataframe thead th {\n",
              "        text-align: right;\n",
              "    }\n",
              "</style>\n",
              "<table border=\"1\" class=\"dataframe\">\n",
              "  <thead>\n",
              "    <tr style=\"text-align: right;\">\n",
              "      <th></th>\n",
              "      <th>reviewId</th>\n",
              "      <th>userName</th>\n",
              "      <th>userImage</th>\n",
              "      <th>content</th>\n",
              "      <th>reviewCreatedVersion</th>\n",
              "      <th>at</th>\n",
              "      <th>replyContent</th>\n",
              "      <th>repliedAt</th>\n",
              "      <th>sortOrder</th>\n",
              "      <th>appId</th>\n",
              "      <th>new_feature_1</th>\n",
              "      <th>new_feature_2</th>\n",
              "    </tr>\n",
              "  </thead>\n",
              "  <tbody>\n",
              "    <tr>\n",
              "      <th>0</th>\n",
              "      <td>gp:AOqpTOH2VEhd1ldAR1zxGzjJEIa37fCBgY9S3sqe_TE...</td>\n",
              "      <td>Matt Van Der Schyff</td>\n",
              "      <td>https://play-lh.googleusercontent.com/-sMd4wLr...</td>\n",
              "      <td>originally gave this a 2 star but I think it o...</td>\n",
              "      <td>5.9.0.2</td>\n",
              "      <td>2021-02-04 05:35:28</td>\n",
              "      <td>We are unaware of any issues with setting remi...</td>\n",
              "      <td>2021-02-04 09:08:06</td>\n",
              "      <td>most_relevant</td>\n",
              "      <td>com.anydo</td>\n",
              "      <td>-75.659779</td>\n",
              "      <td>1.891707</td>\n",
              "    </tr>\n",
              "    <tr>\n",
              "      <th>1</th>\n",
              "      <td>gp:AOqpTOH5OkwJH-nRT4nopD_JNTIYpWs1xWzOsFE-pn7...</td>\n",
              "      <td>Charles Green</td>\n",
              "      <td>https://play-lh.googleusercontent.com/a-/AOh14...</td>\n",
              "      <td>Ugh! After years of using this app, I am so ve...</td>\n",
              "      <td>5.9.0.2</td>\n",
              "      <td>2021-02-17 19:10:03</td>\n",
              "      <td>From checking our records, the issue you've re...</td>\n",
              "      <td>2021-02-18 11:22:00</td>\n",
              "      <td>most_relevant</td>\n",
              "      <td>com.anydo</td>\n",
              "      <td>-3.660627</td>\n",
              "      <td>2.039820</td>\n",
              "    </tr>\n",
              "    <tr>\n",
              "      <th>2</th>\n",
              "      <td>gp:AOqpTOEaw6IQ_8TizWQrZCvwfKfhYqJ0n6GxwFuQF7u...</td>\n",
              "      <td>sree haran</td>\n",
              "      <td>https://play-lh.googleusercontent.com/a-/AOh14...</td>\n",
              "      <td>Even though this app is good, I'll give only o...</td>\n",
              "      <td>5.7.0.20</td>\n",
              "      <td>2021-01-25 17:35:37</td>\n",
              "      <td>To clear your completed tasks, simply press th...</td>\n",
              "      <td>2021-01-26 13:38:30</td>\n",
              "      <td>most_relevant</td>\n",
              "      <td>com.anydo</td>\n",
              "      <td>-51.660061</td>\n",
              "      <td>1.941078</td>\n",
              "    </tr>\n",
              "    <tr>\n",
              "      <th>3</th>\n",
              "      <td>gp:AOqpTOG4LKg25ejg1Hw1TWs6_gIXhpwJRZZpXssMygx...</td>\n",
              "      <td>Andi Tan</td>\n",
              "      <td>https://play-lh.googleusercontent.com/-vozop-l...</td>\n",
              "      <td>I'm a new user. I think this app's great. I tr...</td>\n",
              "      <td>5.9.0.2</td>\n",
              "      <td>2021-02-07 11:54:54</td>\n",
              "      <td>The Quick-add bar on the device's Notification...</td>\n",
              "      <td>2021-02-09 09:19:18</td>\n",
              "      <td>most_relevant</td>\n",
              "      <td>com.anydo</td>\n",
              "      <td>-6.660591</td>\n",
              "      <td>2.033648</td>\n",
              "    </tr>\n",
              "    <tr>\n",
              "      <th>4</th>\n",
              "      <td>gp:AOqpTOGQ7NShvSVr9Vqz67MSeTN_3rkBuYtQRtsyAo5...</td>\n",
              "      <td>Drew Dayman</td>\n",
              "      <td>https://play-lh.googleusercontent.com/a-/AOh14...</td>\n",
              "      <td>Bought it to use with Alexa. After multiple at...</td>\n",
              "      <td>5.9.0.2</td>\n",
              "      <td>2021-02-12 20:35:18</td>\n",
              "      <td>NaN</td>\n",
              "      <td>NaN</td>\n",
              "      <td>most_relevant</td>\n",
              "      <td>com.anydo</td>\n",
              "      <td>4.339279</td>\n",
              "      <td>2.056276</td>\n",
              "    </tr>\n",
              "  </tbody>\n",
              "</table>\n",
              "</div>"
            ],
            "text/plain": [
              "                                            reviewId  ... new_feature_2\n",
              "0  gp:AOqpTOH2VEhd1ldAR1zxGzjJEIa37fCBgY9S3sqe_TE...  ...      1.891707\n",
              "1  gp:AOqpTOH5OkwJH-nRT4nopD_JNTIYpWs1xWzOsFE-pn7...  ...      2.039820\n",
              "2  gp:AOqpTOEaw6IQ_8TizWQrZCvwfKfhYqJ0n6GxwFuQF7u...  ...      1.941078\n",
              "3  gp:AOqpTOG4LKg25ejg1Hw1TWs6_gIXhpwJRZZpXssMygx...  ...      2.033648\n",
              "4  gp:AOqpTOGQ7NShvSVr9Vqz67MSeTN_3rkBuYtQRtsyAo5...  ...      2.056276\n",
              "\n",
              "[5 rows x 12 columns]"
            ]
          },
          "metadata": {
            "tags": []
          },
          "execution_count": 52
        }
      ]
    },
    {
      "cell_type": "code",
      "metadata": {
        "id": "GBO_AtyLTIAL"
      },
      "source": [
        "# دیتاست جدید ایجاد شده و از بخش فایل‌ها قابل دانلود است\r\n",
        "new_df = pd.DataFrame(df)\r\n",
        "new_df.to_csv('pcadataset.csv', index=None, header=True)"
      ],
      "execution_count": 53,
      "outputs": []
    },
    {
      "cell_type": "code",
      "metadata": {
        "id": "D3xVG48goQaj"
      },
      "source": [
        "# # روش زیر همین کار را با استفاده از کتابخانه آماده انجام داده است\r\n",
        "# from sklearn.decomposition import PCA\r\n",
        "# pca = PCA(n_components=2)\r\n",
        "# principalComponents = pca.fit_transform(prev_data)\r\n",
        "# principalComponents"
      ],
      "execution_count": 54,
      "outputs": []
    },
    {
      "cell_type": "code",
      "metadata": {
        "id": "-fbDH03upKvq"
      },
      "source": [
        ""
      ],
      "execution_count": 54,
      "outputs": []
    }
  ]
}